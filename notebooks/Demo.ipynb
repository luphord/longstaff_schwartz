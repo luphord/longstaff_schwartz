{
 "cells": [
  {
   "cell_type": "code",
   "execution_count": 1,
   "metadata": {},
   "outputs": [],
   "source": [
    "from longstaff_schwartz.algorithm import longstaff_schwartz\n",
    "from longstaff_schwartz.stochastic_process import GeometricBrownianMotion\n",
    "import numpy as np"
   ]
  },
  {
   "cell_type": "code",
   "execution_count": 2,
   "metadata": {},
   "outputs": [],
   "source": [
    "# Model parameters\n",
    "t = np.linspace(0, 5, 100)  # timegrid for simulation\n",
    "r = 0.01  # riskless rate\n",
    "sigma = 0.15  # annual volatility of underlying\n",
    "n = 50  # number of simulated paths"
   ]
  },
  {
   "cell_type": "code",
   "execution_count": 3,
   "metadata": {},
   "outputs": [],
   "source": [
    "# Simulate the underlying\n",
    "gbm = GeometricBrownianMotion(mu=r, sigma=sigma)\n",
    "rnd = np.random.RandomState(1234)\n",
    "x = gbm.simulate(t, n, rnd)  # x.shape == (t.size, n)"
   ]
  },
  {
   "cell_type": "code",
   "execution_count": 4,
   "metadata": {},
   "outputs": [],
   "source": [
    "# Payoff (exercise) function\n",
    "strike = 0.95\n",
    "\n",
    "\n",
    "def put_payoff(spot):\n",
    "    return np.maximum(strike - spot, 0.0)"
   ]
  },
  {
   "cell_type": "code",
   "execution_count": 5,
   "metadata": {},
   "outputs": [],
   "source": [
    "# Discount factor function\n",
    "def constant_rate_df(t_from, t_to):\n",
    "    return np.exp(-r * (t_to - t_from))"
   ]
  },
  {
   "cell_type": "code",
   "execution_count": 6,
   "metadata": {},
   "outputs": [],
   "source": [
    "# Approximation of continuation value\n",
    "def fit_quadratic(x, y):\n",
    "    return np.polynomial.Polynomial.fit(x, y, 2, rcond=None)"
   ]
  },
  {
   "cell_type": "code",
   "execution_count": 7,
   "metadata": {},
   "outputs": [],
   "source": [
    "# Selection of paths to consider for exercise (and continuation value approxmation)\n",
    "def itm(payoff, spot):\n",
    "    return payoff > 0"
   ]
  },
  {
   "cell_type": "code",
   "execution_count": 8,
   "metadata": {},
   "outputs": [
    {
     "name": "stderr",
     "output_type": "stream",
     "text": [
      "/home/luphord/root/miniconda3/envs/ls/lib/python3.7/site-packages/numpy/polynomial/polynomial.py:1336: RankWarning: The fit may be poorly conditioned\n",
      "  return pu._fit(polyvander, x, y, deg, rcond, full, w)\n"
     ]
    }
   ],
   "source": [
    "# Run valuation of American put option\n",
    "npv_american = longstaff_schwartz(\n",
    "    x, t, constant_rate_df, fit_quadratic, put_payoff, itm\n",
    ")"
   ]
  },
  {
   "cell_type": "code",
   "execution_count": 9,
   "metadata": {},
   "outputs": [],
   "source": [
    "# European put option for comparison\n",
    "npv_european = constant_rate_df(t[0], t[-1]) * put_payoff(x[-1]).mean()"
   ]
  },
  {
   "cell_type": "code",
   "execution_count": 10,
   "metadata": {},
   "outputs": [],
   "source": [
    "# Check results\n",
    "assert np.round(npv_american, 4) == 0.0702\n",
    "assert np.round(npv_european, 4) == 0.0598\n",
    "assert npv_american > npv_european"
   ]
  }
 ],
 "metadata": {
  "kernelspec": {
   "display_name": "Python 3",
   "language": "python",
   "name": "python3"
  },
  "language_info": {
   "codemirror_mode": {
    "name": "ipython",
    "version": 3
   },
   "file_extension": ".py",
   "mimetype": "text/x-python",
   "name": "python",
   "nbconvert_exporter": "python",
   "pygments_lexer": "ipython3",
   "version": "3.7.4"
  }
 },
 "nbformat": 4,
 "nbformat_minor": 2
}
