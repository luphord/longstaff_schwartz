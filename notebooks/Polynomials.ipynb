{
 "cells": [
  {
   "cell_type": "code",
   "execution_count": 1,
   "metadata": {},
   "outputs": [],
   "source": [
    "import numpy as np\n",
    "from numpy.random import RandomState\n",
    "from numpy.polynomial import Polynomial\n",
    "from matplotlib.pyplot import plot"
   ]
  },
  {
   "cell_type": "code",
   "execution_count": 2,
   "metadata": {},
   "outputs": [],
   "source": [
    "rnd = RandomState(1234)"
   ]
  },
  {
   "cell_type": "code",
   "execution_count": 3,
   "metadata": {},
   "outputs": [],
   "source": [
    "x = np.linspace(0, 10)\n",
    "y = -5 + 2 * x + 0.03 * x**3 + rnd.normal(scale=3, size=x.size)"
   ]
  },
  {
   "cell_type": "code",
   "execution_count": 4,
   "metadata": {},
   "outputs": [
    {
     "data": {
      "image/png": "[encoded data removed]",
      "text/plain": [
       "<Figure size 432x288 with 1 Axes>"
      ]
     },
     "metadata": {
      "needs_background": "light"
     },
     "output_type": "display_data"
    }
   ],
   "source": [
    "plot(x, y, \"+\");"
   ]
  },
  {
   "cell_type": "code",
   "execution_count": 5,
   "metadata": {},
   "outputs": [
    {
     "name": "stdout",
     "output_type": "stream",
     "text": [
      "poly([ 9.13639071 22.65696152 10.78110668  1.80015221])\n"
     ]
    },
    {
     "data": {
      "text/latex": [
       "$x \\mapsto \\text{9.136390706059787} + \\text{22.65696152428973}\\,\\left(\\text{-1.0} + \\text{0.2}x\\right) + \\text{10.781106679339738}\\,\\left(\\text{-1.0} + \\text{0.2}x\\right)^{2} + \\text{1.8001522132209975}\\,\\left(\\text{-1.0} + \\text{0.2}x\\right)^{3}$"
      ],
      "text/plain": [
       "Polynomial([ 9.13639071, 22.65696152, 10.78110668,  1.80015221], domain=[ 0., 10.], window=[-1.,  1.])"
      ]
     },
     "execution_count": 5,
     "metadata": {},
     "output_type": "execute_result"
    }
   ],
   "source": [
    "p = Polynomial.fit(x, y, 3)\n",
    "print(p)\n",
    "p"
   ]
  },
  {
   "cell_type": "code",
   "execution_count": 6,
   "metadata": {},
   "outputs": [
    {
     "data": {
      "text/latex": [
       "$x \\mapsto \\text{-4.539616352111203} + \\text{1.2990409610546496}\\,x + \\text{0.2152260015870698}\\,x^{2} + \\text{0.014401217705767983}\\,x^{3}$"
      ],
      "text/plain": [
       "Polynomial([-4.53961635,  1.29904096,  0.215226  ,  0.01440122], domain=[-1.,  1.], window=[-1.,  1.])"
      ]
     },
     "execution_count": 6,
     "metadata": {},
     "output_type": "execute_result"
    }
   ],
   "source": [
    "p.convert(domain=[-1, 1])"
   ]
  },
  {
   "cell_type": "code",
   "execution_count": 7,
   "metadata": {},
   "outputs": [
    {
     "data": {
      "image/png": "[encoded data removed]",
      "text/plain": [
       "<Figure size 432x288 with 1 Axes>"
      ]
     },
     "metadata": {
      "needs_background": "light"
     },
     "output_type": "display_data"
    }
   ],
   "source": [
    "plot(x, y, \"+\")\n",
    "plot(x, p(x), \"-\");"
   ]
  }
 ],
 "metadata": {
  "kernelspec": {
   "display_name": "Python 3",
   "language": "python",
   "name": "python3"
  },
  "language_info": {
   "codemirror_mode": {
    "name": "ipython",
    "version": 3
   },
   "file_extension": ".py",
   "mimetype": "text/x-python",
   "name": "python",
   "nbconvert_exporter": "python",
   "pygments_lexer": "ipython3",
   "version": "3.7.3"
  }
 },
 "nbformat": 4,
 "nbformat_minor": 2
}
